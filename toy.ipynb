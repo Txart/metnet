{
 "cells": [
  {
   "cell_type": "code",
   "execution_count": 13,
   "metadata": {},
   "outputs": [],
   "source": [
    "import numpy as np\n",
    "import matplotlib.pyplot as plt\n",
    "\n",
    "import networkx as nx\n",
    "\n",
    "%matplotlib notebook"
   ]
  },
  {
   "cell_type": "code",
   "execution_count": 14,
   "metadata": {},
   "outputs": [],
   "source": [
    "def initialize_node_properties(graph):\n",
    "    \"\"\"\n",
    "    Adds random soil depth and set oxygen property\n",
    "    \"\"\"\n",
    "    for node in graph.nodes():   \n",
    "        depth = np.random.random() * SOIL_DEPTH\n",
    "        graph.nodes[node]['depth'] = depth\n",
    "        graph.nodes[node]['o2'] = False # Initialization. Is this necessary??\n",
    "        \n",
    "    return 0\n",
    "\n",
    "def fill_with_air(graph, surface_nodes):\n",
    "    \"\"\"\n",
    "    All nodes connected to a surface node (depth = 0) get o2 = True.\n",
    "    Modifies graph in place.\n",
    "    Returns air filled nodes sorted list\n",
    "    \"\"\"\n",
    "    for node in graph.nodes():\n",
    "        graph.nodes[node]['o2'] = False # Reinitialize\n",
    "    \n",
    "    air_filled_nodes = set()\n",
    "    for i in surface_nodes:\n",
    "        air_filled_nodes.update(nx.algorithms.descendants(graph, i))\n",
    "    \n",
    "    for af_node in air_filled_nodes:\n",
    "        graph.nodes[node]['o2'] = True\n",
    "    \n",
    "    return list(air_filled_nodes)\n",
    "\n",
    "def remove_waterlogged(graph, water_table, surface_nodes):\n",
    "    \"\"\"\n",
    "    Removes the nodes that are deeper than water_table.\n",
    "    Returns removed water nodes.\n",
    "    \"\"\"\n",
    "    water_nodes = [node for node,attr in graph.nodes(data=True) if attr['depth'] > water_table]\n",
    "    water_nodes = list( set(water_nodes) - set(surface_nodes)) # Do not remove surface nodes. Otherwise, cannot fill them with air!\n",
    "    graph.remove_nodes_from(water_nodes)\n",
    "    \n",
    "    return water_nodes\n"
   ]
  },
  {
   "cell_type": "code",
   "execution_count": 15,
   "metadata": {},
   "outputs": [],
   "source": [
    "\"\"\"\n",
    "Define networks\n",
    "\"\"\"\n",
    "\n",
    "# Parameters\n",
    "N_NODES = 1000\n",
    "N_EDGES = 1000\n",
    "\n",
    "SOIL_DEPTH = 100 # cm\n",
    "\n",
    "TIMESTEPS = 100\n",
    "dt = SOIL_DEPTH/TIMESTEPS\n",
    "\n",
    "\n",
    "# Create graphs\n",
    "g_complete = nx.complete_graph(N_NODES); g_complete.name = 'complete'\n",
    "\n",
    "lattice_size = int(N_NODES**(1/3)) + 1\n",
    "g_lattice = nx.grid_graph(dim=[lattice_size, lattice_size, lattice_size]); g_lattice.name = 'lattice'\n",
    "\n",
    "R_ARY = 2 # Number of children of each node for the tree\n",
    "g_rary_tree = nx.full_rary_tree(n=N_NODES, r=R_ARY); g_rary_tree.name = 'full tree'\n",
    "\n",
    "#g_random_tree = nx.random_tree(n=N_NODES); g_random_tree.name = 'random tree'\n",
    "\n",
    "g_random = nx.gnm_random_graph(n=N_NODES, m=N_EDGES); g_random.name = 'random'\n",
    "\n",
    "PREFERENTIAL_NEW_EDGES = int(N_NODES/N_EDGES) # this makes same number of edges as the random, if N_EDGES is a multiple of N_NODES\n",
    "g_barabasi_albert = nx.barabasi_albert_graph(n=N_NODES, m=PREFERENTIAL_NEW_EDGES); g_barabasi_albert.name = 'preferential attachment'\n",
    "\n",
    "graphs = [g_lattice, g_random, g_barabasi_albert, g_rary_tree, g_complete]\n",
    "\n",
    "# Add properties to nodes: depth, o2.\n",
    "surface_nodes = {}\n",
    "for graph in graphs:\n",
    "    initialize_node_properties(graph)\n",
    "    # Compute surface nodes    \n",
    "    surface_nodes[graph.name] = tuple([node for node,attr in graph.nodes(data=True) if attr['depth'] < SOIL_DEPTH/100.]) # Surface nodes are the 1% closest to the surface\n",
    "\n",
    "# Lattice graph has a regular spatial structure. Add it by hand.\n",
    "for node in g_lattice.nodes:\n",
    "    g_lattice.nodes[node]['depth'] = SOIL_DEPTH/(lattice_size-1) * node[2]\n",
    "surface_nodes[g_lattice.name] = tuple([node for node in g_lattice.nodes if node[2] == 0])\n",
    "\n",
    "graph_list = [(i,graph.name) for i,graph in enumerate(graphs)]\n",
    "\n"
   ]
  },
  {
   "cell_type": "code",
   "execution_count": null,
   "metadata": {
    "scrolled": true
   },
   "outputs": [
    {
     "name": "stdout",
     "output_type": "stream",
     "text": [
      "#### RAISING WATER TABLE #### \n",
      "\n",
      "Water table depth = -0.76 m\r"
     ]
    }
   ],
   "source": [
    "\"\"\"\n",
    "Dynamics\n",
    "\"\"\"\n",
    "\n",
    "data_over_time = {}\n",
    "for graph in graphs:\n",
    "    data_over_time[graph.name] = []\n",
    "waterlogged_nodes = {}\n",
    "air_filled_nodes = {}\n",
    "wt_values = np.arange(0.0, SOIL_DEPTH, dt) # Water table, measured positively downward from surface. wt=10 means 10 distance units below surface.\n",
    "wt_values = wt_values[::-1] # Reverse numpy array: water table increases from above to below.\n",
    "\n",
    "print(\"#### RAISING WATER TABLE #### \\n\")\n",
    "\n",
    "for wt in wt_values:\n",
    "    print(\"Water table depth = -{0} m\".format(wt/100), end=\"\\r\")\n",
    "    \n",
    "    for graph in graphs:\n",
    "        # If a node is waterlogged, its edges are removed.\n",
    "        waterlogged_nodes[graph.name] = remove_waterlogged(graph, wt, surface_nodes[graph.name])\n",
    "        # Re-compute which nodes are filled by air. Lattice gets special treatment due to regularity\n",
    "        if graph.name == 'lattice':\n",
    "            air_filled_nodes[graph.name] = graph.nodes() # all nodes are filled with air\n",
    "        else:    \n",
    "            air_filled_nodes[graph.name] = fill_with_air(graph, surface_nodes[graph.name])\n",
    "        \n",
    "        data_over_time[graph.name].append( [len(air_filled_nodes[graph.name])/N_NODES, wt, dt] )\n"
   ]
  },
  {
   "cell_type": "code",
   "execution_count": null,
   "metadata": {
    "scrolled": false
   },
   "outputs": [],
   "source": [
    "\"\"\"\n",
    "Plots\n",
    "\"\"\"\n",
    "\n",
    "\n",
    "# 2 y axis, legends\n",
    "#fig, ax1 = plt.subplots()\n",
    "#ax1.set_xlabel('time')\n",
    "#color = 'tab:red'\n",
    "#ax1.set_ylabel(' ', color=color)\n",
    "#p1 = ax1.plot(data[:,2], data[:,0], label='air filled pore fraction', color=color)\n",
    "#\n",
    "#ax2 = ax1.twinx() # 2nd axes\n",
    "#color = 'tab:blue'\n",
    "#ax2.set_ylabel(' ', color=color)\n",
    "#p2 = ax2.plot(data[:,2], -data[:,1], label='water table depth', color=color)\n",
    "#\n",
    "#fig.tight_layout()\n",
    "#\n",
    "## All labels in the same legend\n",
    "#plots = p1 + p2\n",
    "#labels = [l.get_label() for l in plots]\n",
    "#ax1.legend(plots, labels, loc=0)\n",
    "\n",
    "fig, (ax1,ax2) = plt.subplots(1,2)\n",
    "for graph in graphs:\n",
    "    data = np.array(data_over_time[graph.name])\n",
    "    ax1.set_xlabel('WT depth')\n",
    "    ax1.set_ylabel('Fraction of air filled pores')\n",
    "    \n",
    "    ax1.plot(-data[:,1]/100, data[:,0], label=graph.name)\n",
    "    \n",
    "    ax2.set_xlabel('Time')\n",
    "    ax2.set_ylabel('Cumulative fraction of air filled pores')\n",
    "    \n",
    "    ax2.plot(-data[:,1] + 100, np.cumsum(data[:,0]), label=graph.name)\n",
    "\n",
    "## Plot table as well\n",
    "#network_stats = [[len(graph.edges)] for graph in graphs]\n",
    "#col_names = ['n_edges']\n",
    "#row_names = [graph.name for graph in graphs]\n",
    "#ax.table(cellText=network_stats, rowLabels=row_names, colLabels=col_names)\n",
    "#\n",
    "#plt.subplots_adjust(left=0.2, bottom=0.5)\n",
    "\n",
    "plt.legend()\n",
    "plt.show()\n"
   ]
  },
  {
   "cell_type": "code",
   "execution_count": null,
   "metadata": {
    "scrolled": true
   },
   "outputs": [],
   "source": [
    "#for node,attr in g_lattice.nodes(data=True):\n",
    "    #print(attr['depth'])\n",
    "len(g_lattice.nodes)"
   ]
  },
  {
   "cell_type": "code",
   "execution_count": null,
   "metadata": {},
   "outputs": [],
   "source": [
    "len(g_rary_tree.edges())"
   ]
  },
  {
   "cell_type": "code",
   "execution_count": null,
   "metadata": {},
   "outputs": [],
   "source": [
    "b = a + [5]\n",
    "b"
   ]
  },
  {
   "cell_type": "code",
   "execution_count": null,
   "metadata": {},
   "outputs": [],
   "source": []
  }
 ],
 "metadata": {
  "kernelspec": {
   "display_name": "Python 3",
   "language": "python",
   "name": "python3"
  },
  "language_info": {
   "codemirror_mode": {
    "name": "ipython",
    "version": 3
   },
   "file_extension": ".py",
   "mimetype": "text/x-python",
   "name": "python",
   "nbconvert_exporter": "python",
   "pygments_lexer": "ipython3",
   "version": "3.7.4"
  }
 },
 "nbformat": 4,
 "nbformat_minor": 2
}
