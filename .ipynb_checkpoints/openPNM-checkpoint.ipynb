{
 "cells": [
  {
   "cell_type": "code",
   "execution_count": 22,
   "metadata": {},
   "outputs": [],
   "source": [
    "import openpnm as op\n",
    "import matplotlib.pyplot as plt\n",
    "import scipy as sp\n",
    "%matplotlib inline"
   ]
  },
  {
   "cell_type": "code",
   "execution_count": 16,
   "metadata": {},
   "outputs": [],
   "source": [
    "\"\"\"\n",
    "Params\n",
    "\"\"\"\n",
    "SPACING = 0.0001\n",
    "\n",
    "\"\"\"\n",
    "Network\n",
    "\"\"\"\n",
    "pn = op.network.Cubic(shape=[10, 10, 10], spacing=0.0001)\n",
    "\n",
    "\"\"\"\n",
    "Geometry\n",
    "\"\"\"\n",
    "geo = op.geometry.StickAndBall(network=pn, pores=pn.pores(), throats=pn.throats())\n",
    "\n",
    "\"\"\"\n",
    "Phases\n",
    "\"\"\"\n",
    "water = op.phases.Water(network=pn)\n",
    "\n",
    "\"\"\"\n",
    "Physics\n",
    "\"\"\"\n",
    "phys_water = op.physics.GenericPhysics(network=pn,phase=water, geometry=geo)\n",
    "\n",
    "\"\"\"\n",
    "Model\n",
    "\"\"\"\n",
    "model = op.models.physics.hydraulic_conductance.hagen_poiseuille\n",
    "phys_water.add_model(propname = 'throat.hydraulic_conductance',\n",
    "                    model = model,\n",
    "                    pore_viscosity = 'pore.viscosity',\n",
    "                    pore_area = 'pore.area',\n",
    "                    throat_area = 'throat.area')"
   ]
  },
  {
   "cell_type": "code",
   "execution_count": 64,
   "metadata": {
    "scrolled": true
   },
   "outputs": [
    {
     "data": {
      "text/plain": [
       "<matplotlib.image.AxesImage at 0x7fcd0b642a10>"
      ]
     },
     "execution_count": 64,
     "metadata": {},
     "output_type": "execute_result"
    },
    {
     "data": {
      "image/png": "[encoded data removed]",
      "text/plain": [
       "<Figure size 432x288 with 1 Axes>"
      ]
     },
     "metadata": {
      "needs_background": "light"
     },
     "output_type": "display_data"
    }
   ],
   "source": [
    "\"\"\"Invasion percolation\"\"\"\n",
    "shape = [50,50,1]\n",
    "pn = op.network.Cubic(shape = shape, spacing=0.0001)\n",
    "geom = op.geometry.StickAndBall(network=pn, pores=pn.Ps, throats=pn.Ts) # https://openpnm.readthedocs.io/en/master/modules/geometry/index.html\n",
    "water = op.phases.Water(network=pn)\n",
    "water.add_model(propname = 'throat.entry_pressure',\n",
    "                model = op.models.physics.capillary_pressure.washburn)\n",
    "ip = op.algorithms.InvasionPercolation(network=pn)\n",
    "ip.setup(phase=water)\n",
    "ip.set_inlets(pores=pn.pores('left'))\n",
    "ip.run()\n",
    "\n"
   ]
  },
  {
   "cell_type": "code",
   "execution_count": 77,
   "metadata": {
    "scrolled": true
   },
   "outputs": [
    {
     "data": {
      "text/plain": [
       "<matplotlib.image.AxesImage at 0x7fcd0b10b410>"
      ]
     },
     "execution_count": 77,
     "metadata": {},
     "output_type": "execute_result"
    },
    {
     "data": {
      "image/png": "[encoded data removed]",
      "text/plain": [
       "<Figure size 432x288 with 1 Axes>"
      ]
     },
     "metadata": {
      "needs_background": "light"
     },
     "output_type": "display_data"
    }
   ],
   "source": [
    "water.update(ip.results(Snwp = 0.98))\n",
    "\n",
    "# plot sequence\n",
    "#plt.imshow(sp.reshape(ip['pore.invasion_sequence'], newshape=shape[:-1]))\n",
    "\n",
    "# plot final state\n",
    "plt.imshow(sp.reshape(water['pore.occupancy'], newshape=shape[:-1]))"
   ]
  },
  {
   "cell_type": "code",
   "execution_count": null,
   "metadata": {},
   "outputs": [],
   "source": [
    "\"\"\"\n",
    "Save figs\n",
    "\"\"\"\n",
    "\n",
    "op.io.VTK.save(network = pn, phases = water, filename = 'test3d_percolation')"
   ]
  }
 ],
 "metadata": {
  "kernelspec": {
   "display_name": "Python 3",
   "language": "python",
   "name": "python3"
  },
  "language_info": {
   "codemirror_mode": {
    "name": "ipython",
    "version": 3
   },
   "file_extension": ".py",
   "mimetype": "text/x-python",
   "name": "python",
   "nbconvert_exporter": "python",
   "pygments_lexer": "ipython3",
   "version": "3.7.4"
  }
 },
 "nbformat": 4,
 "nbformat_minor": 2
}
