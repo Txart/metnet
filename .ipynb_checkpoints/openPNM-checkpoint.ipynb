{
 "cells": [
  {
   "cell_type": "code",
   "execution_count": 300,
   "metadata": {},
   "outputs": [],
   "source": [
    "import openpnm as op\n",
    "import matplotlib.pyplot as plt\n",
    "import scipy as sp\n",
    "import numpy as np\n",
    "\n",
    "%matplotlib inline"
   ]
  },
  {
   "cell_type": "code",
   "execution_count": 16,
   "metadata": {},
   "outputs": [],
   "source": [
    "\"\"\"\n",
    "Params\n",
    "\"\"\"\n",
    "SPACING = 0.0001\n",
    "\n",
    "\"\"\"\n",
    "Network\n",
    "\"\"\"\n",
    "pn = op.network.Cubic(shape=[10, 10, 10], spacing=0.0001)\n",
    "\n",
    "\"\"\"\n",
    "Geometry\n",
    "\"\"\"\n",
    "geo = op.geometry.StickAndBall(network=pn, pores=pn.pores(), throats=pn.throats())\n",
    "\n",
    "\"\"\"\n",
    "Phases\n",
    "\"\"\"\n",
    "water = op.phases.Water(network=pn)\n",
    "\n",
    "\"\"\"\n",
    "Physics\n",
    "\"\"\"\n",
    "phys_water = op.physics.GenericPhysics(network=pn,phase=water, geometry=geo)\n",
    "\n",
    "\"\"\"\n",
    "Model\n",
    "\"\"\"\n",
    "model = op.models.physics.hydraulic_conductance.hagen_poiseuille\n",
    "phys_water.add_model(propname = 'throat.hydraulic_conductance',\n",
    "                    model = model,\n",
    "                    pore_viscosity = 'pore.viscosity',\n",
    "                    pore_area = 'pore.area',\n",
    "                    throat_area = 'throat.area')"
   ]
  },
  {
   "cell_type": "code",
   "execution_count": 15,
   "metadata": {
    "scrolled": true
   },
   "outputs": [],
   "source": [
    "\"\"\"Invasion percolation\"\"\"\n",
    "shape = [50,50,1]\n",
    "pn = op.network.Cubic(shape = shape, spacing=0.0001)\n",
    "geom = op.geometry.StickAndBall(network=pn, pores=pn.Ps, throats=pn.Ts) # https://openpnm.readthedocs.io/en/master/modules/geometry/index.html\n",
    "water = op.phases.Water(network=pn)\n",
    "water.add_model(propname = 'throat.entry_pressure',\n",
    "                model = op.models.physics.capillary_pressure.washburn)\n",
    "ip = op.algorithms.InvasionPercolation(network=pn)\n",
    "ip.setup(phase=water)\n",
    "ip.set_inlets(pores=pn.pores('left'))\n",
    "ip.run()\n",
    "\n"
   ]
  },
  {
   "cell_type": "code",
   "execution_count": 4,
   "metadata": {
    "scrolled": true
   },
   "outputs": [
    {
     "data": {
      "text/plain": [
       "<matplotlib.image.AxesImage at 0x7f41356ae850>"
      ]
     },
     "execution_count": 4,
     "metadata": {},
     "output_type": "execute_result"
    },
    {
     "data": {
      "image/png": "[encoded data removed]",
      "text/plain": [
       "<Figure size 432x288 with 1 Axes>"
      ]
     },
     "metadata": {
      "needs_background": "light"
     },
     "output_type": "display_data"
    }
   ],
   "source": [
    "water.update(ip.results(Snwp = 0.98))\n",
    "\n",
    "# plot sequence\n",
    "#plt.imshow(sp.reshape(ip['pore.invasion_sequence'], newshape=shape[:-1]))\n",
    "\n",
    "# plot final state\n",
    "plt.imshow(sp.reshape(water['pore.occupancy'], newshape=shape[:-1]))"
   ]
  },
  {
   "cell_type": "code",
   "execution_count": 301,
   "metadata": {},
   "outputs": [
    {
     "name": "stderr",
     "output_type": "stream",
     "text": [
      "―――――――――――――――――――――――――――――――――――――――――――――――――――――――――――――――――――――――\n",
      "    WARNING: Some inlet pores have non-zero volume, will result in non-zero initial saturation \n",
      "    SOURCE: openpnm.algorithms.OrdinaryPercolation.set_inlets \n",
      "    TIME STAMP: 2019-10-24 15:19:05,111    \n"
     ]
    }
   ],
   "source": [
    "\"\"\"Drainage (percolation) + air diffusion following paper\"\"\"\n",
    "shape = [100,100,1]\n",
    "pn = op.network.Cubic(shape = shape, spacing=0.0001)\n",
    "\n",
    "geom = op.geometry.StickAndBall(network=pn, pores=pn.Ps, throats=pn.Ts) # https://openpnm.readthedocs.io/en/master/modules/geometry/index.html\n",
    "\n",
    "air = op.phases.Air(network=pn)\n",
    "water = op.phases.Water(network=pn)\n",
    "\n",
    "air.add_model(propname = 'throat.diffusive_conductance',\n",
    "                  model = op.models.physics.diffusive_conductance.ordinary_diffusion)\n",
    "water.add_model(propname = 'throat.entry_pressure',\n",
    "                model = op.models.physics.capillary_pressure.washburn)\n",
    "# water percolation\n",
    "o_perco = op.algorithms.OrdinaryPercolation(network = pn)\n",
    "o_perco.setup(phase = water, access_limited = True)\n",
    "o_perco.set_inlets(pores = pn.pores('left')) # where water will entry from\n",
    "o_perco.set_outlets(pores = pn.pores('right')) # where air will exit\n",
    "o_perco.run()\n",
    "\n",
    "\n"
   ]
  },
  {
   "cell_type": "code",
   "execution_count": 302,
   "metadata": {},
   "outputs": [
    {
     "name": "stdout",
     "output_type": "stream",
     "text": [
      "5273.960463266183\n"
     ]
    },
    {
     "data": {
      "text/plain": [
       "<matplotlib.image.AxesImage at 0x7f411df48990>"
      ]
     },
     "execution_count": 302,
     "metadata": {},
     "output_type": "execute_result"
    },
    {
     "data": {
      "image/png": "[encoded data removed]",
      "text/plain": [
       "<Figure size 432x288 with 1 Axes>"
      ]
     },
     "metadata": {
      "needs_background": "light"
     },
     "output_type": "display_data"
    }
   ],
   "source": [
    "percolating_threshold = o_perco.get_percolation_threshold()\n",
    "#o_perco.plot_intrusion_curve(fig=fig) is broken, doesn't work\n",
    "#print(o_perco.keys()) # get keynames for stored results\n",
    "print(percolating_threshold)\n",
    "pressure = percolating_threshold-3000.0\n",
    "water.update(o_perco.results(Pc = pressure))\n",
    "plt.imshow(sp.reshape(water['pore.occupancy'], newshape=shape[:-1]))"
   ]
  },
  {
   "cell_type": "code",
   "execution_count": 303,
   "metadata": {
    "scrolled": true
   },
   "outputs": [
    {
     "name": "stdout",
     "output_type": "stream",
     "text": [
      "[2.06754784e-05 2.06754784e-05 2.06754784e-05 ... 2.06754784e-05\n",
      " 2.06754784e-05 2.06754784e-05]\n"
     ]
    },
    {
     "ename": "ValueError",
     "evalue": "shape must be a 2-tuple of positive integers",
     "output_type": "error",
     "traceback": [
      "\u001b[0;31m---------------------------------------------------------------------------\u001b[0m",
      "\u001b[0;31mValueError\u001b[0m                                Traceback (most recent call last)",
      "\u001b[0;32m<ipython-input-303-56859e975d6a>\u001b[0m in \u001b[0;36m<module>\u001b[0;34m\u001b[0m\n\u001b[1;32m     18\u001b[0m \u001b[0mprint\u001b[0m\u001b[0;34m(\u001b[0m\u001b[0mair\u001b[0m\u001b[0;34m[\u001b[0m\u001b[0;34m'pore.diffusivity'\u001b[0m\u001b[0;34m]\u001b[0m\u001b[0;34m)\u001b[0m\u001b[0;34m\u001b[0m\u001b[0;34m\u001b[0m\u001b[0m\n\u001b[1;32m     19\u001b[0m \u001b[0;34m\u001b[0m\u001b[0m\n\u001b[0;32m---> 20\u001b[0;31m \u001b[0mfick_diffusion\u001b[0m\u001b[0;34m.\u001b[0m\u001b[0mrun\u001b[0m\u001b[0;34m(\u001b[0m\u001b[0;34m)\u001b[0m\u001b[0;34m\u001b[0m\u001b[0;34m\u001b[0m\u001b[0m\n\u001b[0m",
      "\u001b[0;32m~/Programming/anaconda3/envs/metnet/lib/python3.7/site-packages/openpnm/algorithms/TransientReactiveTransport.py\u001b[0m in \u001b[0;36mrun\u001b[0;34m(self, t)\u001b[0m\n\u001b[1;32m    249\u001b[0m             \u001b[0mself\u001b[0m\u001b[0;34m.\u001b[0m\u001b[0mset_IC\u001b[0m\u001b[0;34m(\u001b[0m\u001b[0;36m0\u001b[0m\u001b[0;34m)\u001b[0m\u001b[0;34m\u001b[0m\u001b[0;34m\u001b[0m\u001b[0m\n\u001b[1;32m    250\u001b[0m         \u001b[0;31m# Save A matrix of the steady sys of eqs (WITHOUT BCs applied)\u001b[0m\u001b[0;34m\u001b[0m\u001b[0;34m\u001b[0m\u001b[0;34m\u001b[0m\u001b[0m\n\u001b[0;32m--> 251\u001b[0;31m         \u001b[0mself\u001b[0m\u001b[0;34m.\u001b[0m\u001b[0m_A_steady\u001b[0m \u001b[0;34m=\u001b[0m \u001b[0;34m(\u001b[0m\u001b[0mself\u001b[0m\u001b[0;34m.\u001b[0m\u001b[0mA\u001b[0m\u001b[0;34m)\u001b[0m\u001b[0;34m.\u001b[0m\u001b[0mcopy\u001b[0m\u001b[0;34m(\u001b[0m\u001b[0;34m)\u001b[0m\u001b[0;34m\u001b[0m\u001b[0;34m\u001b[0m\u001b[0m\n\u001b[0m\u001b[1;32m    252\u001b[0m         \u001b[0;31m# Initialize A and b with BCs applied\u001b[0m\u001b[0;34m\u001b[0m\u001b[0;34m\u001b[0m\u001b[0;34m\u001b[0m\u001b[0m\n\u001b[1;32m    253\u001b[0m         \u001b[0mself\u001b[0m\u001b[0;34m.\u001b[0m\u001b[0m_t_update_A\u001b[0m\u001b[0;34m(\u001b[0m\u001b[0;34m)\u001b[0m\u001b[0;34m\u001b[0m\u001b[0;34m\u001b[0m\u001b[0m\n",
      "\u001b[0;32m~/Programming/anaconda3/envs/metnet/lib/python3.7/site-packages/openpnm/algorithms/TransientReactiveTransport.py\u001b[0m in \u001b[0;36m_t_update_A\u001b[0;34m(self)\u001b[0m\n\u001b[1;32m    188\u001b[0m         \u001b[0;31m# Compute A (operations involve conversion to 'csr')\u001b[0m\u001b[0;34m\u001b[0m\u001b[0;34m\u001b[0m\u001b[0;34m\u001b[0m\u001b[0m\n\u001b[1;32m    189\u001b[0m         A = (f1 * self._A_steady + (f2/dt) * sprs.coo_matrix.multiply(\n\u001b[0;32m--> 190\u001b[0;31m             \u001b[0;31m# sprs.coo_matrix(np.reshape(Vi, (self.Np, 1)), shape=(self.Np,)), Iñaki\u001b[0m\u001b[0;34m\u001b[0m\u001b[0;34m\u001b[0m\u001b[0;34m\u001b[0m\u001b[0m\n\u001b[0m\u001b[1;32m    191\u001b[0m                 \u001b[0msprs\u001b[0m\u001b[0;34m.\u001b[0m\u001b[0mcoo_matrix\u001b[0m\u001b[0;34m(\u001b[0m\u001b[0mnp\u001b[0m\u001b[0;34m.\u001b[0m\u001b[0mreshape\u001b[0m\u001b[0;34m(\u001b[0m\u001b[0mVi\u001b[0m\u001b[0;34m,\u001b[0m \u001b[0;34m(\u001b[0m\u001b[0mself\u001b[0m\u001b[0;34m.\u001b[0m\u001b[0mNp\u001b[0m\u001b[0;34m,\u001b[0m \u001b[0;36m1\u001b[0m\u001b[0;34m)\u001b[0m\u001b[0;34m)\u001b[0m\u001b[0;34m)\u001b[0m\u001b[0;34m,\u001b[0m\u001b[0;34m\u001b[0m\u001b[0;34m\u001b[0m\u001b[0m\n\u001b[1;32m    192\u001b[0m                 sprs.identity(self.Np, format='coo'))\n",
      "\u001b[0;32m~/Programming/anaconda3/envs/metnet/lib/python3.7/site-packages/scipy/sparse/coo.py\u001b[0m in \u001b[0;36m__init__\u001b[0;34m(self, arg1, shape, dtype, copy)\u001b[0m\n\u001b[1;32m    185\u001b[0m                 \u001b[0mself\u001b[0m\u001b[0;34m.\u001b[0m\u001b[0m_shape\u001b[0m \u001b[0;34m=\u001b[0m \u001b[0mcheck_shape\u001b[0m\u001b[0;34m(\u001b[0m\u001b[0mM\u001b[0m\u001b[0;34m.\u001b[0m\u001b[0mshape\u001b[0m\u001b[0;34m)\u001b[0m\u001b[0;34m\u001b[0m\u001b[0;34m\u001b[0m\u001b[0m\n\u001b[1;32m    186\u001b[0m                 \u001b[0;32mif\u001b[0m \u001b[0mshape\u001b[0m \u001b[0;32mis\u001b[0m \u001b[0;32mnot\u001b[0m \u001b[0;32mNone\u001b[0m\u001b[0;34m:\u001b[0m\u001b[0;34m\u001b[0m\u001b[0;34m\u001b[0m\u001b[0m\n\u001b[0;32m--> 187\u001b[0;31m                     \u001b[0;32mif\u001b[0m \u001b[0mcheck_shape\u001b[0m\u001b[0;34m(\u001b[0m\u001b[0mshape\u001b[0m\u001b[0;34m)\u001b[0m \u001b[0;34m!=\u001b[0m \u001b[0mself\u001b[0m\u001b[0;34m.\u001b[0m\u001b[0m_shape\u001b[0m\u001b[0;34m:\u001b[0m\u001b[0;34m\u001b[0m\u001b[0;34m\u001b[0m\u001b[0m\n\u001b[0m\u001b[1;32m    188\u001b[0m                         raise ValueError('inconsistent shapes: %s != %s' %\n\u001b[1;32m    189\u001b[0m                                          (shape, self._shape))\n",
      "\u001b[0;32m~/Programming/anaconda3/envs/metnet/lib/python3.7/site-packages/scipy/sparse/sputils.py\u001b[0m in \u001b[0;36mcheck_shape\u001b[0;34m(args, current_shape)\u001b[0m\n\u001b[1;32m    281\u001b[0m     \u001b[0;32mif\u001b[0m \u001b[0mcurrent_shape\u001b[0m \u001b[0;32mis\u001b[0m \u001b[0;32mNone\u001b[0m\u001b[0;34m:\u001b[0m\u001b[0;34m\u001b[0m\u001b[0;34m\u001b[0m\u001b[0m\n\u001b[1;32m    282\u001b[0m         \u001b[0;32mif\u001b[0m \u001b[0mlen\u001b[0m\u001b[0;34m(\u001b[0m\u001b[0mnew_shape\u001b[0m\u001b[0;34m)\u001b[0m \u001b[0;34m!=\u001b[0m \u001b[0;36m2\u001b[0m\u001b[0;34m:\u001b[0m\u001b[0;34m\u001b[0m\u001b[0;34m\u001b[0m\u001b[0m\n\u001b[0;32m--> 283\u001b[0;31m             \u001b[0;32mraise\u001b[0m \u001b[0mValueError\u001b[0m\u001b[0;34m(\u001b[0m\u001b[0;34m'shape must be a 2-tuple of positive integers'\u001b[0m\u001b[0;34m)\u001b[0m\u001b[0;34m\u001b[0m\u001b[0;34m\u001b[0m\u001b[0m\n\u001b[0m\u001b[1;32m    284\u001b[0m         \u001b[0;32melif\u001b[0m \u001b[0mnew_shape\u001b[0m\u001b[0;34m[\u001b[0m\u001b[0;36m0\u001b[0m\u001b[0;34m]\u001b[0m \u001b[0;34m<\u001b[0m \u001b[0;36m0\u001b[0m \u001b[0;32mor\u001b[0m \u001b[0mnew_shape\u001b[0m\u001b[0;34m[\u001b[0m\u001b[0;36m1\u001b[0m\u001b[0;34m]\u001b[0m \u001b[0;34m<\u001b[0m \u001b[0;36m0\u001b[0m\u001b[0;34m:\u001b[0m\u001b[0;34m\u001b[0m\u001b[0;34m\u001b[0m\u001b[0m\n\u001b[1;32m    285\u001b[0m             \u001b[0;32mraise\u001b[0m \u001b[0mValueError\u001b[0m\u001b[0;34m(\u001b[0m\u001b[0;34m\"'shape' elements cannot be negative\"\u001b[0m\u001b[0;34m)\u001b[0m\u001b[0;34m\u001b[0m\u001b[0;34m\u001b[0m\u001b[0m\n",
      "\u001b[0;31mValueError\u001b[0m: shape must be a 2-tuple of positive integers"
     ]
    }
   ],
   "source": [
    "\"\"\"Fickian diffusion transient\"\"\"\n",
    "\n",
    "air['throat.conductance'] = air['throat.diffusive_conductance'] \n",
    "#* (o_perco['throat.invasion_pressure'] > pressure)\n",
    "\n",
    "fick_diffusion = op.algorithms.TransientFickianDiffusion(network = pn)\n",
    "fick_diffusion.setup(phase = air, conductance = 'throat.conductance')\n",
    "\n",
    "# BC and IC\n",
    "FRAC_AIR_RIGHT = 1.0; FRAC_AIR_LEFT = 0.0\n",
    "fick_diffusion.set_value_BC(pores = pn.pores('right'), values = FRAC_AIR_RIGHT)\n",
    "fick_diffusion.set_value_BC(pores = pn.pores('left'), values = FRAC_AIR_LEFT)\n",
    "fick_diffusion.set_IC(0.0)\n",
    "\n",
    "# time-related parameters\n",
    "fick_diffusion.setup(t_scheme = 'cranknicolson', t_final = 100, t_output = 5, t_step = 1, t_tolerance = 1e-12)\n",
    "\n",
    "print(air['pore.diffusivity'])\n",
    "\n",
    "fick_diffusion.run()"
   ]
  },
  {
   "cell_type": "code",
   "execution_count": 296,
   "metadata": {},
   "outputs": [
    {
     "ename": "TypeError",
     "evalue": "unsupported operand type(s) for *: 'int' and 'NoneType'",
     "output_type": "error",
     "traceback": [
      "\u001b[0;31m---------------------------------------------------------------------------\u001b[0m",
      "\u001b[0;31mTypeError\u001b[0m                                 Traceback (most recent call last)",
      "\u001b[0;32m<ipython-input-296-ccab2f79f8af>\u001b[0m in \u001b[0;36m<module>\u001b[0;34m\u001b[0m\n\u001b[1;32m      5\u001b[0m \u001b[0mmatrix\u001b[0m \u001b[0;34m=\u001b[0m \u001b[0msprs\u001b[0m\u001b[0;34m.\u001b[0m\u001b[0mcoo_matrix\u001b[0m\u001b[0;34m.\u001b[0m\u001b[0mmultiply\u001b[0m\u001b[0;34m(\u001b[0m\u001b[0msprs\u001b[0m\u001b[0;34m.\u001b[0m\u001b[0mcoo_matrix\u001b[0m\u001b[0;34m(\u001b[0m\u001b[0ma\u001b[0m\u001b[0;34m)\u001b[0m\u001b[0;34m,\u001b[0m \u001b[0mb\u001b[0m\u001b[0;34m)\u001b[0m\u001b[0;34m\u001b[0m\u001b[0;34m\u001b[0m\u001b[0m\n\u001b[1;32m      6\u001b[0m \u001b[0;34m\u001b[0m\u001b[0m\n\u001b[0;32m----> 7\u001b[0;31m \u001b[0;36m5\u001b[0m\u001b[0;34m*\u001b[0m\u001b[0;32mNone\u001b[0m \u001b[0;34m+\u001b[0m \u001b[0;36m2\u001b[0m \u001b[0;34m*\u001b[0m \u001b[0mmatrix\u001b[0m\u001b[0;34m\u001b[0m\u001b[0;34m\u001b[0m\u001b[0m\n\u001b[0m",
      "\u001b[0;31mTypeError\u001b[0m: unsupported operand type(s) for *: 'int' and 'NoneType'"
     ]
    }
   ],
   "source": [
    "import scipy.sparse as sprs\n",
    "\n",
    "a = np.reshape(pn['pore.volume'], (pn.Np, 1))\n",
    "b = sprs.identity(pn.Np, format = 'coo')\n",
    "matrix = sprs.coo_matrix.multiply(sprs.coo_matrix(a), b)\n",
    "\n",
    "5*None + 2 * matrix\n"
   ]
  },
  {
   "cell_type": "code",
   "execution_count": 250,
   "metadata": {},
   "outputs": [
    {
     "data": {
      "text/plain": [
       "<matplotlib.colorbar.Colorbar at 0x7f411e863bd0>"
      ]
     },
     "execution_count": 250,
     "metadata": {},
     "output_type": "execute_result"
    },
    {
     "data": {
      "image/png": "[encoded data removed]",
      "text/plain": [
       "<Figure size 432x288 with 2 Axes>"
      ]
     },
     "metadata": {
      "needs_background": "light"
     },
     "output_type": "display_data"
    }
   ],
   "source": [
    "\n",
    "plt.imshow(fick_diffusion.results()['pore.concentration'].reshape(shape[:-1]))\n",
    "plt.colorbar()"
   ]
  },
  {
   "cell_type": "code",
   "execution_count": null,
   "metadata": {},
   "outputs": [],
   "source": [
    "\n",
    "\"\"\"\n",
    "Save figs\n",
    "\"\"\"\n",
    "\n",
    "op.io.VTK.save(network = pn, phases = water, filename = 'test3d_percolation')"
   ]
  }
 ],
 "metadata": {
  "kernelspec": {
   "display_name": "Python 3",
   "language": "python",
   "name": "python3"
  },
  "language_info": {
   "codemirror_mode": {
    "name": "ipython",
    "version": 3
   },
   "file_extension": ".py",
   "mimetype": "text/x-python",
   "name": "python",
   "nbconvert_exporter": "python",
   "pygments_lexer": "ipython3",
   "version": "3.7.4"
  }
 },
 "nbformat": 4,
 "nbformat_minor": 2
}
