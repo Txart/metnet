{
 "cells": [
  {
   "cell_type": "code",
   "execution_count": 50,
   "metadata": {},
   "outputs": [],
   "source": [
    "import openpnm as op\n",
    "import matplotlib.pyplot as plt\n",
    "import scipy as sp\n",
    "import numpy as np\n",
    "\n",
    "%matplotlib inline"
   ]
  },
  {
   "cell_type": "code",
   "execution_count": 16,
   "metadata": {},
   "outputs": [],
   "source": [
    "\"\"\"\n",
    "Params\n",
    "\"\"\"\n",
    "SPACING = 0.0001\n",
    "\n",
    "\"\"\"\n",
    "Network\n",
    "\"\"\"\n",
    "pn = op.network.Cubic(shape=[10, 10, 10], spacing=0.0001)\n",
    "\n",
    "\"\"\"\n",
    "Geometry\n",
    "\"\"\"\n",
    "geo = op.geometry.StickAndBall(network=pn, pores=pn.pores(), throats=pn.throats())\n",
    "\n",
    "\"\"\"\n",
    "Phases\n",
    "\"\"\"\n",
    "water = op.phases.Water(network=pn)\n",
    "\n",
    "\"\"\"\n",
    "Physics\n",
    "\"\"\"\n",
    "phys_water = op.physics.GenericPhysics(network=pn,phase=water, geometry=geo)\n",
    "\n",
    "\"\"\"\n",
    "Model\n",
    "\"\"\"\n",
    "model = op.models.physics.hydraulic_conductance.hagen_poiseuille\n",
    "phys_water.add_model(propname = 'throat.hydraulic_conductance',\n",
    "                    model = model,\n",
    "                    pore_viscosity = 'pore.viscosity',\n",
    "                    pore_area = 'pore.area',\n",
    "                    throat_area = 'throat.area')"
   ]
  },
  {
   "cell_type": "code",
   "execution_count": 15,
   "metadata": {
    "scrolled": true
   },
   "outputs": [],
   "source": [
    "\"\"\"Invasion percolation\"\"\"\n",
    "shape = [50,50,1]\n",
    "pn = op.network.Cubic(shape = shape, spacing=0.0001)\n",
    "geom = op.geometry.StickAndBall(network=pn, pores=pn.Ps, throats=pn.Ts) # https://openpnm.readthedocs.io/en/master/modules/geometry/index.html\n",
    "water = op.phases.Water(network=pn)\n",
    "water.add_model(propname = 'throat.entry_pressure',\n",
    "                model = op.models.physics.capillary_pressure.washburn)\n",
    "ip = op.algorithms.InvasionPercolation(network=pn)\n",
    "ip.setup(phase=water)\n",
    "ip.set_inlets(pores=pn.pores('left'))\n",
    "ip.run()\n",
    "\n"
   ]
  },
  {
   "cell_type": "code",
   "execution_count": 4,
   "metadata": {
    "scrolled": true
   },
   "outputs": [
    {
     "data": {
      "text/plain": [
       "<matplotlib.image.AxesImage at 0x7f41356ae850>"
      ]
     },
     "execution_count": 4,
     "metadata": {},
     "output_type": "execute_result"
    },
    {
     "data": {
      "image/png": "[encoded data removed]",
      "text/plain": [
       "<Figure size 432x288 with 1 Axes>"
      ]
     },
     "metadata": {
      "needs_background": "light"
     },
     "output_type": "display_data"
    }
   ],
   "source": [
    "water.update(ip.results(Snwp = 0.98))\n",
    "\n",
    "# plot sequence\n",
    "#plt.imshow(sp.reshape(ip['pore.invasion_sequence'], newshape=shape[:-1]))\n",
    "\n",
    "# plot final state\n",
    "plt.imshow(sp.reshape(water['pore.occupancy'], newshape=shape[:-1]))"
   ]
  },
  {
   "cell_type": "code",
   "execution_count": 2,
   "metadata": {},
   "outputs": [
    {
     "name": "stderr",
     "output_type": "stream",
     "text": [
      "―――――――――――――――――――――――――――――――――――――――――――――――――――――――――――――――――――――――\n",
      "    WARNING: Some inlet pores have non-zero volume, will result in non-zero initial saturation \n",
      "    SOURCE: openpnm.algorithms.OrdinaryPercolation.set_inlets \n",
      "    TIME STAMP: 2019-10-24 15:20:01,623    \n"
     ]
    }
   ],
   "source": [
    "\"\"\"Drainage (percolation) + air diffusion following paper\"\"\"\n",
    "shape = [100,100,1]\n",
    "pn = op.network.Cubic(shape = shape, spacing=0.0001)\n",
    "\n",
    "geom = op.geometry.StickAndBall(network=pn, pores=pn.Ps, throats=pn.Ts) # https://openpnm.readthedocs.io/en/master/modules/geometry/index.html\n",
    "\n",
    "air = op.phases.Air(network=pn)\n",
    "water = op.phases.Water(network=pn)\n",
    "\n",
    "air.add_model(propname = 'throat.diffusive_conductance',\n",
    "                  model = op.models.physics.diffusive_conductance.ordinary_diffusion)\n",
    "water.add_model(propname = 'throat.entry_pressure',\n",
    "                model = op.models.physics.capillary_pressure.washburn)\n",
    "# water percolation\n",
    "o_perco = op.algorithms.OrdinaryPercolation(network = pn)\n",
    "o_perco.setup(phase = water, access_limited = True)\n",
    "o_perco.set_inlets(pores = pn.pores('left')) # where water will entry from\n",
    "o_perco.set_outlets(pores = pn.pores('right')) # where air will exit\n",
    "o_perco.run()\n",
    "\n",
    "\n"
   ]
  },
  {
   "cell_type": "code",
   "execution_count": 31,
   "metadata": {},
   "outputs": [
    {
     "name": "stdout",
     "output_type": "stream",
     "text": [
      "5271.21089924667\n"
     ]
    },
    {
     "data": {
      "text/plain": [
       "<matplotlib.image.AxesImage at 0x7f8fae7a5290>"
      ]
     },
     "execution_count": 31,
     "metadata": {},
     "output_type": "execute_result"
    },
    {
     "data": {
      "image/png": "[encoded data removed]",
      "text/plain": [
       "<Figure size 432x288 with 1 Axes>"
      ]
     },
     "metadata": {
      "needs_background": "light"
     },
     "output_type": "display_data"
    }
   ],
   "source": [
    "percolating_threshold = o_perco.get_percolation_threshold()\n",
    "#o_perco.plot_intrusion_curve(fig=fig) is broken, doesn't work\n",
    "#print(o_perco.keys()) # get keynames for stored results\n",
    "print(percolating_threshold)\n",
    "pressure = percolating_threshold-0\n",
    "water.update(o_perco.results(Pc = pressure))\n",
    "plt.imshow(sp.reshape(water['pore.occupancy'], newshape=shape[:-1]))"
   ]
  },
  {
   "cell_type": "code",
   "execution_count": 60,
   "metadata": {
    "scrolled": true
   },
   "outputs": [
    {
     "name": "stdout",
     "output_type": "stream",
     "text": [
      "[2.06754784e-05 2.06754784e-05 2.06754784e-05 ... 2.06754784e-05\n",
      " 2.06754784e-05 2.06754784e-05]\n"
     ]
    }
   ],
   "source": [
    "\"\"\"Fickian diffusion transient\"\"\"\n",
    "\n",
    "air['throat.conductance'] = air['throat.diffusive_conductance'] * (o_perco['throat.invasion_pressure'] > pressure)\n",
    "\n",
    "\n",
    "fick_diffusion = op.algorithms.TransientFickianDiffusion(network = pn)\n",
    "fick_diffusion.setup(phase = air, conductance = 'throat.conductance')\n",
    "\n",
    "# BC and IC\n",
    "FRAC_AIR_RIGHT = 1.0; FRAC_AIR_LEFT = 0.0\n",
    "fick_diffusion.set_value_BC(pores = pn.pores('right'), values = FRAC_AIR_RIGHT)\n",
    "fick_diffusion.set_value_BC(pores = pn.pores('left'), values = FRAC_AIR_LEFT)\n",
    "fick_diffusion.set_IC(0.0)\n",
    "\n",
    "# time-related parameters\n",
    "fick_diffusion.setup(t_scheme = 'cranknicolson', t_final = 100, t_output = 0.1, t_step = 0.1, t_tolerance = 1e-12)\n",
    "\n",
    "print(air['pore.diffusivity'])\n",
    "\n",
    "fick_diffusion.run()"
   ]
  },
  {
   "cell_type": "code",
   "execution_count": 59,
   "metadata": {},
   "outputs": [
    {
     "name": "stdout",
     "output_type": "stream",
     "text": [
      "――――――――――――――――――――――――――――――――――――――――――――――――――――――――――――――――――――――――――――――\n",
      "openpnm.algorithms.TransientFickianDiffusion : alg_13\n",
      "――――――――――――――――――――――――――――――――――――――――――――――――――――――――――――――――――――――――――――――\n",
      "#     Properties                                    Valid Values\n",
      "――――――――――――――――――――――――――――――――――――――――――――――――――――――――――――――――――――――――――――――\n",
      "1     pore.bc_rate                                      0 / 10000\n",
      "2     pore.bc_value                                   200 / 10000\n",
      "3     pore.concentration                            10000 / 10000\n",
      "4     pore.concentration@0                          10000 / 10000\n",
      "5     pore.concentration@1e-1                       10000 / 10000\n",
      "6     pore.concentration@2e-1                       10000 / 10000\n",
      "7     pore.concentration@3e-1                       10000 / 10000\n",
      "8     pore.concentration@4e-1                       10000 / 10000\n",
      "9     pore.concentration@5e-1                       10000 / 10000\n",
      "――――――――――――――――――――――――――――――――――――――――――――――――――――――――――――――――――――――――――――――\n",
      "#     Labels                                        Assigned Locations\n",
      "――――――――――――――――――――――――――――――――――――――――――――――――――――――――――――――――――――――――――――――\n",
      "1     pore.all                                      10000     \n",
      "2     throat.all                                    19800     \n",
      "――――――――――――――――――――――――――――――――――――――――――――――――――――――――――――――――――――――――――――――\n"
     ]
    },
    {
     "data": {
      "text/plain": [
       "<matplotlib.colorbar.Colorbar at 0x7f8fadeaa790>"
      ]
     },
     "execution_count": 59,
     "metadata": {},
     "output_type": "execute_result"
    },
    {
     "data": {
      "image/png": "[encoded data removed]",
      "text/plain": [
       "<Figure size 432x288 with 2 Axes>"
      ]
     },
     "metadata": {
      "needs_background": "light"
     },
     "output_type": "display_data"
    }
   ],
   "source": [
    "\"\"\"Animation of Transport Fickian using matplotlib\"\"\"\n",
    "\n",
    "print(fick_diffusion)\n",
    "plt.figure()\n",
    "plt.imshow(fick_diffusion['pore.concentration'].reshape(shape[:-1]))\n",
    "plt.colorbar()\n",
    "\n"
   ]
  },
  {
   "cell_type": "code",
   "execution_count": 250,
   "metadata": {},
   "outputs": [
    {
     "data": {
      "text/plain": [
       "<matplotlib.colorbar.Colorbar at 0x7f411e863bd0>"
      ]
     },
     "execution_count": 250,
     "metadata": {},
     "output_type": "execute_result"
    },
    {
     "data": {
      "image/png": "[encoded data removed]",
      "text/plain": [
       "<Figure size 432x288 with 2 Axes>"
      ]
     },
     "metadata": {
      "needs_background": "light"
     },
     "output_type": "display_data"
    }
   ],
   "source": [
    "\n",
    "plt.imshow(fick_diffusion.results()['pore.concentration'].reshape(shape[:-1]))\n",
    "plt.colorbar()"
   ]
  },
  {
   "cell_type": "code",
   "execution_count": null,
   "metadata": {},
   "outputs": [],
   "source": [
    "\n",
    "\"\"\"\n",
    "Save figs\n",
    "\"\"\"\n",
    "\n",
    "op.io.VTK.save(network = pn, phases = water, filename = 'test3d_percolation')"
   ]
  }
 ],
 "metadata": {
  "kernelspec": {
   "display_name": "Python 3",
   "language": "python",
   "name": "python3"
  },
  "language_info": {
   "codemirror_mode": {
    "name": "ipython",
    "version": 3
   },
   "file_extension": ".py",
   "mimetype": "text/x-python",
   "name": "python",
   "nbconvert_exporter": "python",
   "pygments_lexer": "ipython3",
   "version": "3.7.4"
  }
 },
 "nbformat": 4,
 "nbformat_minor": 2
}
